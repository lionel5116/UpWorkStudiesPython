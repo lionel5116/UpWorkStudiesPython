{
 "cells": [
  {
   "cell_type": "markdown",
   "metadata": {},
   "source": [
    "This notebook is to outline the process by which I investigate how to use data on Kaggle's website, Then plot the data (This will be usefull for real world side projects) </br>\n",
    "The Website for Kaggle is: https://www.kaggle.com/ </br>\n"
   ]
  }
 ],
 "metadata": {
  "language_info": {
   "name": "python"
  },
  "orig_nbformat": 4
 },
 "nbformat": 4,
 "nbformat_minor": 2
}
