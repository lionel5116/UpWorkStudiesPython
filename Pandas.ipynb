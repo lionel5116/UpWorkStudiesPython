{
 "cells": [
  {
   "cell_type": "code",
   "execution_count": 2,
   "metadata": {},
   "outputs": [],
   "source": [
    "import pandas as pd"
   ]
  },
  {
   "cell_type": "code",
   "execution_count": 3,
   "metadata": {},
   "outputs": [],
   "source": [
    "salarayDF = pd.DataFrame([['NATHANIEL FORD','GENERAL MANAGER-METROPOLITAN TRANSIT AUTHORITY',167411.18,567595.43],\n",
    "                          ['GARY JIMENEZ','CAPTAIN III POLICE DEPARTMENT',155966.02,538909.28],\n",
    "                          ['ALBERT PARDINI','WIRE ROPE CABLE MAINTENANCE MECHANIC',134401.6,316285.74],\n",
    "                          ['SEBASTIAN WONG','DEPARTMENT HEAD V',254027.63,257124.44]\n",
    "                         ],\n",
    "                         ['A','B','C','D'],['EmployeeName','JobTitle','BasePay','TotalPay'])"
   ]
  },
  {
   "cell_type": "code",
   "execution_count": 4,
   "metadata": {},
   "outputs": [
    {
     "data": {
      "text/html": [
       "<div>\n",
       "<style scoped>\n",
       "    .dataframe tbody tr th:only-of-type {\n",
       "        vertical-align: middle;\n",
       "    }\n",
       "\n",
       "    .dataframe tbody tr th {\n",
       "        vertical-align: top;\n",
       "    }\n",
       "\n",
       "    .dataframe thead th {\n",
       "        text-align: right;\n",
       "    }\n",
       "</style>\n",
       "<table border=\"1\" class=\"dataframe\">\n",
       "  <thead>\n",
       "    <tr style=\"text-align: right;\">\n",
       "      <th></th>\n",
       "      <th>EmployeeName</th>\n",
       "      <th>JobTitle</th>\n",
       "      <th>BasePay</th>\n",
       "      <th>TotalPay</th>\n",
       "    </tr>\n",
       "  </thead>\n",
       "  <tbody>\n",
       "    <tr>\n",
       "      <th>A</th>\n",
       "      <td>NATHANIEL FORD</td>\n",
       "      <td>GENERAL MANAGER-METROPOLITAN TRANSIT AUTHORITY</td>\n",
       "      <td>167411.18</td>\n",
       "      <td>567595.43</td>\n",
       "    </tr>\n",
       "    <tr>\n",
       "      <th>B</th>\n",
       "      <td>GARY JIMENEZ</td>\n",
       "      <td>CAPTAIN III POLICE DEPARTMENT</td>\n",
       "      <td>155966.02</td>\n",
       "      <td>538909.28</td>\n",
       "    </tr>\n",
       "    <tr>\n",
       "      <th>C</th>\n",
       "      <td>ALBERT PARDINI</td>\n",
       "      <td>WIRE ROPE CABLE MAINTENANCE MECHANIC</td>\n",
       "      <td>134401.60</td>\n",
       "      <td>316285.74</td>\n",
       "    </tr>\n",
       "    <tr>\n",
       "      <th>D</th>\n",
       "      <td>SEBASTIAN WONG</td>\n",
       "      <td>DEPARTMENT HEAD V</td>\n",
       "      <td>254027.63</td>\n",
       "      <td>257124.44</td>\n",
       "    </tr>\n",
       "  </tbody>\n",
       "</table>\n",
       "</div>"
      ],
      "text/plain": [
       "     EmployeeName                                        JobTitle    BasePay  \\\n",
       "A  NATHANIEL FORD  GENERAL MANAGER-METROPOLITAN TRANSIT AUTHORITY  167411.18   \n",
       "B    GARY JIMENEZ                   CAPTAIN III POLICE DEPARTMENT  155966.02   \n",
       "C  ALBERT PARDINI            WIRE ROPE CABLE MAINTENANCE MECHANIC  134401.60   \n",
       "D  SEBASTIAN WONG                               DEPARTMENT HEAD V  254027.63   \n",
       "\n",
       "    TotalPay  \n",
       "A  567595.43  \n",
       "B  538909.28  \n",
       "C  316285.74  \n",
       "D  257124.44  "
      ]
     },
     "execution_count": 4,
     "metadata": {},
     "output_type": "execute_result"
    }
   ],
   "source": [
    "salarayDF"
   ]
  },
  {
   "cell_type": "code",
   "execution_count": 5,
   "metadata": {},
   "outputs": [
    {
     "data": {
      "text/html": [
       "<div>\n",
       "<style scoped>\n",
       "    .dataframe tbody tr th:only-of-type {\n",
       "        vertical-align: middle;\n",
       "    }\n",
       "\n",
       "    .dataframe tbody tr th {\n",
       "        vertical-align: top;\n",
       "    }\n",
       "\n",
       "    .dataframe thead th {\n",
       "        text-align: right;\n",
       "    }\n",
       "</style>\n",
       "<table border=\"1\" class=\"dataframe\">\n",
       "  <thead>\n",
       "    <tr style=\"text-align: right;\">\n",
       "      <th></th>\n",
       "      <th>EmployeeName</th>\n",
       "      <th>JobTitle</th>\n",
       "      <th>BasePay</th>\n",
       "      <th>TotalPay</th>\n",
       "    </tr>\n",
       "  </thead>\n",
       "  <tbody>\n",
       "    <tr>\n",
       "      <th>B</th>\n",
       "      <td>GARY JIMENEZ</td>\n",
       "      <td>CAPTAIN III POLICE DEPARTMENT</td>\n",
       "      <td>155966.02</td>\n",
       "      <td>538909.28</td>\n",
       "    </tr>\n",
       "  </tbody>\n",
       "</table>\n",
       "</div>"
      ],
      "text/plain": [
       "   EmployeeName                       JobTitle    BasePay   TotalPay\n",
       "B  GARY JIMENEZ  CAPTAIN III POLICE DEPARTMENT  155966.02  538909.28"
      ]
     },
     "execution_count": 5,
     "metadata": {},
     "output_type": "execute_result"
    }
   ],
   "source": [
    "salarayDF[salarayDF['EmployeeName'] =='GARY JIMENEZ']"
   ]
  },
  {
   "cell_type": "code",
   "execution_count": 6,
   "metadata": {},
   "outputs": [
    {
     "data": {
      "text/plain": [
       "B    538909.28\n",
       "Name: TotalPay, dtype: float64"
      ]
     },
     "execution_count": 6,
     "metadata": {},
     "output_type": "execute_result"
    }
   ],
   "source": [
    "salarayDF[salarayDF['EmployeeName'] =='GARY JIMENEZ']['TotalPay']"
   ]
  }
 ],
 "metadata": {
  "interpreter": {
   "hash": "32e4b64e8dedf718e71321d57aacd3b88bddb5acf358b69b6f7026491c29c1b8"
  },
  "kernelspec": {
   "display_name": "Python 3.9.7 64-bit",
   "language": "python",
   "name": "python3"
  },
  "language_info": {
   "codemirror_mode": {
    "name": "ipython",
    "version": 3
   },
   "file_extension": ".py",
   "mimetype": "text/x-python",
   "name": "python",
   "nbconvert_exporter": "python",
   "pygments_lexer": "ipython3",
   "version": "3.9.7"
  },
  "orig_nbformat": 4
 },
 "nbformat": 4,
 "nbformat_minor": 2
}
